{
 "metadata": {
  "language_info": {
   "codemirror_mode": {
    "name": "ipython",
    "version": 3
   },
   "file_extension": ".py",
   "mimetype": "text/x-python",
   "name": "python",
   "nbconvert_exporter": "python",
   "pygments_lexer": "ipython3",
   "version": "3.8.3-final"
  },
  "orig_nbformat": 2,
  "kernelspec": {
   "name": "python_defaultSpec_1599158674348",
   "display_name": "Python 3.8.3 64-bit ('Anaconda': conda)"
  }
 },
 "nbformat": 4,
 "nbformat_minor": 2,
 "cells": [
  {
   "cell_type": "markdown",
   "metadata": {},
   "source": [
    "## Try, Except, Else y Finally"
   ]
  },
  {
   "cell_type": "code",
   "execution_count": null,
   "metadata": {},
   "outputs": [],
   "source": [
    "def busca_pais(paises, pais):\n",
    "    try:\n",
    "        return paises[pais]\n",
    "    except KeyError:\n",
    "        return None"
   ]
  },
  {
   "cell_type": "code",
   "execution_count": 7,
   "metadata": {
    "tags": []
   },
   "outputs": [
    {
     "output_type": "stream",
     "name": "stdout",
     "text": "division by zero\n[0, 1, 2, 3, 4, 5, 6, 7, 8, 9]\n"
    }
   ],
   "source": [
    "def divide_elementos_de_lista(lista, divisor):\n",
    "    try:\n",
    "        return [i / divisor for i in lista]\n",
    "    except ZeroDivisionError as e:\n",
    "        print(e)\n",
    "        return lista\n",
    "\n",
    "if __name__ == '__main__':        \n",
    "    lista = list(range(10))\n",
    "    divisor = 0\n",
    "    print(divide_elementos_de_lista(lista, divisor))"
   ]
  }
 ]
}