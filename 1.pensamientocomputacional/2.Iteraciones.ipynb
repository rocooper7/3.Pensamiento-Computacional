{
 "metadata": {
  "language_info": {
   "codemirror_mode": {
    "name": "ipython",
    "version": 3
   },
   "file_extension": ".py",
   "mimetype": "text/x-python",
   "name": "python",
   "nbconvert_exporter": "python",
   "pygments_lexer": "ipython3",
   "version": "3.8.3-final"
  },
  "orig_nbformat": 2,
  "kernelspec": {
   "name": "python_defaultSpec_1599144107196",
   "display_name": "Python 3.8.3 64-bit ('Anaconda': conda)"
  }
 },
 "nbformat": 4,
 "nbformat_minor": 2,
 "cells": [
  {
   "cell_type": "code",
   "execution_count": 1,
   "metadata": {
    "tags": []
   },
   "outputs": [
    {
     "output_type": "stream",
     "name": "stdout",
     "text": "0\n1\n2\n3\n4\n5\n6\n7\n8\n9\n"
    }
   ],
   "source": [
    "contador = 0\n",
    "\n",
    "while contador < 10:\n",
    "    print(contador)  #(0,1,2,3,4,5,6,7,8,9)\n",
    "    contador +=1 "
   ]
  },
  {
   "cell_type": "code",
   "execution_count": 2,
   "metadata": {
    "tags": []
   },
   "outputs": [
    {
     "output_type": "stream",
     "name": "stdout",
     "text": "0 0\n0 1\n0 2\n1 0\n1 1\n1 2\n2 0\n2 1\n2 2\n3 0\n3 1\n3 2\n4 0\n4 1\n4 2\n"
    }
   ],
   "source": [
    "contador_externo = 0\n",
    "contador_interno = 0\n",
    "\n",
    "while contador_externo < 5:\n",
    "    while contador_interno < 6:\n",
    "        print(contador_externo,contador_interno)\n",
    "        contador_interno += 1\n",
    "\n",
    "        if contador_interno >=3: #Se pone para que no llegue hasta el 6 \n",
    "            break\n",
    "\n",
    "    contador_externo += 1\n",
    "    contador_interno = 0  # para haga reset en el contador interno y pueda avanzar el cont externo"
   ]
  }
 ]
}