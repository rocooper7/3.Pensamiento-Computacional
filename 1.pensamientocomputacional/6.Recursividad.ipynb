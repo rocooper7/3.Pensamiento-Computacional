{
 "metadata": {
  "language_info": {
   "codemirror_mode": {
    "name": "ipython",
    "version": 3
   },
   "file_extension": ".py",
   "mimetype": "text/x-python",
   "name": "python",
   "nbconvert_exporter": "python",
   "pygments_lexer": "ipython3",
   "version": "3.8.3-final"
  },
  "orig_nbformat": 2,
  "kernelspec": {
   "name": "python_defaultSpec_1599579368124",
   "display_name": "Python 3.8.3 64-bit ('Anaconda': conda)"
  }
 },
 "nbformat": 4,
 "nbformat_minor": 2,
 "cells": [
  {
   "cell_type": "markdown",
   "metadata": {
    "tags": []
   },
   "source": [
    "## Factorial"
   ]
  },
  {
   "cell_type": "code",
   "execution_count": 4,
   "metadata": {
    "tags": []
   },
   "outputs": [
    {
     "output_type": "stream",
     "name": "stdout",
     "text": "5\n4\n3\n2\n1\n120\n"
    }
   ],
   "source": [
    "def factorial(n):\n",
    "    print(n)\n",
    "    if n == 1:\n",
    "        return 1\n",
    "    \n",
    "    return n * factorial(n - 1)\n",
    "\n",
    "if __name__ == '__main__':\n",
    "    n = int(input('Cual es el numero buscado?'))\n",
    "    print(factorial(n)) # 5*4*3*2*1 = 120"
   ]
  },
  {
   "cell_type": "markdown",
   "metadata": {},
   "source": [
    "## Fibonacci"
   ]
  },
  {
   "cell_type": "code",
   "execution_count": 1,
   "metadata": {
    "tags": []
   },
   "outputs": [
    {
     "output_type": "stream",
     "name": "stdout",
     "text": "21\n"
    }
   ],
   "source": [
    "def fibonacci(n):\n",
    "    if n == 0 or n == 1:\n",
    "        return n\n",
    "\n",
    "    return fibonacci(n - 1) + fibonacci(n - 2)\n",
    "\n",
    "if __name__ == '__main__':\n",
    "    n = int(input('Cual es el numero buscado?'))\n",
    "    print(fibonacci(n)) "
   ]
  },
  {
   "cell_type": "code",
   "execution_count": 2,
   "metadata": {
    "tags": []
   },
   "outputs": [
    {
     "output_type": "stream",
     "name": "stdout",
     "text": "0\n1\n1\n2\n3\n5\n8\n13\n21\n"
    }
   ],
   "source": [
    "## Comprobocion Fibonachi\n",
    "for x in range(9):\n",
    "    print(fibonacci(x))"
   ]
  }
 ]
}