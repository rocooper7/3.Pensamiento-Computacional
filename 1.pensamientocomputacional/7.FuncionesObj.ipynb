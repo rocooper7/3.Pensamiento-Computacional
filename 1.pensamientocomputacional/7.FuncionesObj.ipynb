{
 "metadata": {
  "language_info": {
   "codemirror_mode": {
    "name": "ipython",
    "version": 3
   },
   "file_extension": ".py",
   "mimetype": "text/x-python",
   "name": "python",
   "nbconvert_exporter": "python",
   "pygments_lexer": "ipython3",
   "version": "3.8.3-final"
  },
  "orig_nbformat": 2,
  "kernelspec": {
   "name": "python_defaultSpec_1599154301355",
   "display_name": "Python 3.8.3 64-bit ('Anaconda': conda)"
  }
 },
 "nbformat": 4,
 "nbformat_minor": 2,
 "cells": [
  {
   "cell_type": "markdown",
   "metadata": {},
   "source": [
    "## Argumentos de Otras Funciones"
   ]
  },
  {
   "cell_type": "code",
   "execution_count": 4,
   "metadata": {
    "tags": []
   },
   "outputs": [
    {
     "output_type": "stream",
     "name": "stdout",
     "text": "[2, 4, 6]\n[3, 4, 5]\n"
    }
   ],
   "source": [
    "def multiplicar_por_dos(n):\n",
    "    return n * 2\n",
    "\n",
    "def sumar_dos(n):\n",
    "    return n + 2\n",
    "\n",
    "def aplicar_operacion(func, numeros):\n",
    "    resultados = []\n",
    "    for numero in numeros:\n",
    "        resultado = func(numero)\n",
    "        resultados.append(resultado)\n",
    "    return resultados\n",
    "\n",
    "if __name__ == '__main__':\n",
    "    nums = [1, 2, 3]\n",
    "    print(aplicar_operacion(multiplicar_por_dos, nums))\n",
    "    print(aplicar_operacion(sumar_dos, nums))    "
   ]
  },
  {
   "cell_type": "markdown",
   "metadata": {},
   "source": [
    "## Funciones en expresiones\n",
    "lambda vars: expresion"
   ]
  },
  {
   "cell_type": "code",
   "execution_count": 5,
   "metadata": {},
   "outputs": [
    {
     "output_type": "execute_result",
     "data": {
      "text/plain": "5"
     },
     "metadata": {},
     "execution_count": 5
    }
   ],
   "source": [
    "sumar = lambda x, y: x + y\n",
    "sumar(2, 3)"
   ]
  },
  {
   "cell_type": "markdown",
   "metadata": {},
   "source": [
    "## Funciones en estructuras de datos"
   ]
  },
  {
   "cell_type": "code",
   "execution_count": 9,
   "metadata": {
    "tags": []
   },
   "outputs": [
    {
     "output_type": "stream",
     "name": "stdout",
     "text": "[2, -2.0]\n"
    }
   ],
   "source": [
    "def aplicar_operaciones(num):\n",
    "    operaciones = [abs, float]\n",
    "\n",
    "    resultado = []\n",
    "    for operacion in operaciones:\n",
    "        resultado.append(operacion(num))\n",
    "\n",
    "    return resultado\n",
    "\n",
    "if __name__ == '__main__':\n",
    "    print(aplicar_operaciones(-2))"
   ]
  }
 ]
}