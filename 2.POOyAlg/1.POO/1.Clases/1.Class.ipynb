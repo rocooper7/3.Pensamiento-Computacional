{
 "metadata": {
  "language_info": {
   "codemirror_mode": {
    "name": "ipython",
    "version": 3
   },
   "file_extension": ".py",
   "mimetype": "text/x-python",
   "name": "python",
   "nbconvert_exporter": "python",
   "pygments_lexer": "ipython3",
   "version": "3.8.3-final"
  },
  "orig_nbformat": 2,
  "kernelspec": {
   "name": "python_defaultSpec_1599491622551",
   "display_name": "Python 3.8.3 64-bit ('Anaconda': conda)"
  }
 },
 "nbformat": 4,
 "nbformat_minor": 2,
 "cells": [
  {
   "cell_type": "markdown",
   "metadata": {},
   "source": [
    "## Primer Ejemplo"
   ]
  },
  {
   "cell_type": "code",
   "execution_count": 8,
   "metadata": {
    "tags": []
   },
   "outputs": [
    {
     "output_type": "stream",
     "name": "stdout",
     "text": "Hola Aldo, me llamo Rodrigo.\n"
    }
   ],
   "source": [
    "class Person:   #Clase \n",
    "    def __init__(self,name,age):  #Inicialización de la clase y sus Atributos(Caracteristicas de la clase)\n",
    "        self.name = name          #Se definene atributos\n",
    "        self.age = age\n",
    "\n",
    "    def hi(self,other_person):     #Metodos(Acciones de la clase)\n",
    "        print (f'Hola {other_person.name}, me llamo {self.name}.')\n",
    "\n",
    "if __name__ == '__main__':\n",
    "    rodrigo = Person('Rodrigo',35)     #Instancia de la clase \n",
    "    aldo = Person('Aldo',30)\n",
    "    rodrigo.hi(aldo) "
   ]
  },
  {
   "cell_type": "markdown",
   "metadata": {},
   "source": [
    "## Segundo Ejemplo"
   ]
  },
  {
   "cell_type": "code",
   "execution_count": 7,
   "metadata": {
    "tags": []
   },
   "outputs": [
    {
     "output_type": "stream",
     "name": "stdout",
     "text": "22.02271554554524\nTrue\n"
    }
   ],
   "source": [
    "class Coordenada:\n",
    "    def __init__(self, x, y):\n",
    "        self.x = x\n",
    "        self.y = y\n",
    "\n",
    "    def distancia(self,otra_coordenada):\n",
    "        x_diff = (self.x - otra_coordenada.x)**2\n",
    "        y_diff = (self.y - otra_coordenada.y)**2\n",
    "        # print (self.x,otra_coordenada.x)\n",
    "        # print (self.y,otra_coordenada.y)\n",
    "        return (x_diff + y_diff)**0.5\n",
    "                \n",
    "\n",
    "if __name__ == '__main__':\n",
    "    coord_1 = Coordenada(3,30)\n",
    "    coord_2 = Coordenada(4,8)\n",
    "    print(coord_1.distancia(coord_2))  # 22.02271554554524\n",
    "    print(isinstance(coord_1,Coordenada)) #True"
   ]
  }
 ]
}