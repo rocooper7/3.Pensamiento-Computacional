{
 "metadata": {
  "language_info": {
   "codemirror_mode": {
    "name": "ipython",
    "version": 3
   },
   "file_extension": ".py",
   "mimetype": "text/x-python",
   "name": "python",
   "nbconvert_exporter": "python",
   "pygments_lexer": "ipython3",
   "version": "3.8.3-final"
  },
  "orig_nbformat": 2,
  "kernelspec": {
   "name": "python_defaultSpec_1599493561412",
   "display_name": "Python 3.8.3 64-bit ('Anaconda': conda)"
  }
 },
 "nbformat": 4,
 "nbformat_minor": 2,
 "cells": [
  {
   "cell_type": "markdown",
   "metadata": {},
   "source": [
    "## Decomposición Ejemplo 1"
   ]
  },
  {
   "cell_type": "code",
   "execution_count": 4,
   "metadata": {
    "tags": []
   },
   "outputs": [
    {
     "output_type": "stream",
     "name": "stdout",
     "text": "Cuando el auto va rapido inyecta 10 de gas\n"
    }
   ],
   "source": [
    "class Automovil:\n",
    "\n",
    "    def __init__(self,modelo,marca,color):\n",
    "        self.modelo = modelo\n",
    "        self.marca = marca\n",
    "        self.color = color\n",
    "        self._estado = 'En_reposo' #Variables privadas \n",
    "        self._motor = Motor(cilindros = 4) \n",
    "\n",
    "    def acelerar(self,tipo='despacio'):\n",
    "        if tipo == 'rapida':\n",
    "           print(f'Cuando el auto va rapido inyecta {self._motor.inyecta_gasolina(10)} de gas')\n",
    "        else:\n",
    "            print(f' Cuando va despacio inyecta {self._motor.inyecta_gasolina(3)} de gas')\n",
    "        \n",
    "        self._estado = 'En_movimiento'\n",
    "\n",
    "class Motor:\n",
    "\n",
    "    def __init__(self,cilindros,tipo='gasolina'):  #Cuando se utiliza un solo tipo, se establece desde el principio\n",
    "        self.cilindros = cilindros\n",
    "        self.tipo = tipo\n",
    "        self._temperatura = 0\n",
    "        \n",
    "    def inyecta_gasolina(self,cantidad):\n",
    "        return cantidad\n",
    "\n",
    "if __name__ == '__main__':\n",
    "    automovil = Automovil('Volkswagen','Jetta','Blanco')\n",
    "    automovil.acelerar('rapida')"
   ]
  },
  {
   "cell_type": "markdown",
   "metadata": {},
   "source": [
    "## Segundo Ejemplo"
   ]
  },
  {
   "cell_type": "code",
   "execution_count": 17,
   "metadata": {
    "tags": []
   },
   "outputs": [
    {
     "output_type": "stream",
     "name": "stdout",
     "text": "Marca:Volkswagen\nModelo:Jetta\nColor:Blanco\nEl Jetta esta encendido\nAcelerando Turbo\nLa aceleracion del Automovil es 210 km/h\n"
    }
   ],
   "source": [
    "class Automovil:\n",
    "    def __init__(self, marca, modelo, color):\n",
    "        self.marca = marca\n",
    "        self.modelo = modelo\n",
    "        self.color = color\n",
    "        self._motor = Motor(20,100,210)\n",
    "        self._Enc = True\n",
    "        self.velocidad = 0\n",
    "    \n",
    "    def encendido(self):\n",
    "        if self._Enc == True and self.velocidad == 0:\n",
    "            print(f'El {self.modelo} esta encendido')\n",
    "        else:\n",
    "            print(f'El {self.modelo} esta apagado')\n",
    "        \n",
    "    def acelerar(self,tipo_acel):\n",
    "        if self._Enc == True:\n",
    "            self.velocidad = self._motor.velocidades(tipo_acel) #Decomposión\n",
    "            print(f'La aceleracion del Automovil es {self.velocidad} km/h')\n",
    "        else:\n",
    "            print('El Automovil no tiene velocidad')\n",
    "    \n",
    "    def propiedades(self):\n",
    "        print(f'Marca:{self.marca}')\n",
    "        print(f'Modelo:{self.modelo}')\n",
    "        print(f'Color:{self.color}')\n",
    "\n",
    "        \n",
    "class Motor:\n",
    "    def __init__(self,despacio, normal,turbo):\n",
    "        self.velocidad_motor = 0\n",
    "        self.despacio = despacio\n",
    "        self.normal = normal\n",
    "        self.turbo = turbo\n",
    "    \n",
    "    def velocidades(self,tipo):\n",
    "        if tipo == 1:\n",
    "            self.velocidad_motor += self.despacio\n",
    "            print('Acelerando Despacio')\n",
    "        elif tipo == 2:\n",
    "            self.velocidad_motor += self.normal\n",
    "            print('Acelerando Normal')\n",
    "        elif tipo == 3:\n",
    "            self.velocidad_motor += self.turbo\n",
    "            print('Acelerando Turbo')\n",
    "        else:\n",
    "            print('Opción no valida')\n",
    "\n",
    "        return self.velocidad_motor \n",
    "\n",
    "if __name__ == '__main__':\n",
    "    #creando coche\n",
    "    automovil=Automovil('Volkswagen','Jetta', 'Blanco')\n",
    "    automovil.propiedades()\n",
    "    automovil.encendido()\n",
    "    automovil.acelerar(3)"
   ]
  }
 ]
}