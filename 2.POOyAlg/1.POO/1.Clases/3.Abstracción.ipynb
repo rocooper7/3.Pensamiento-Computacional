{
 "metadata": {
  "language_info": {
   "codemirror_mode": {
    "name": "ipython",
    "version": 3
   },
   "file_extension": ".py",
   "mimetype": "text/x-python",
   "name": "python",
   "nbconvert_exporter": "python",
   "pygments_lexer": "ipython3",
   "version": "3.8.3-final"
  },
  "orig_nbformat": 2,
  "kernelspec": {
   "name": "python_defaultSpec_1599497474600",
   "display_name": "Python 3.8.3 64-bit ('Anaconda': conda)"
  }
 },
 "nbformat": 4,
 "nbformat_minor": 2,
 "cells": [
  {
   "cell_type": "markdown",
   "metadata": {
    "tags": []
   },
   "source": [
    "## Abstracción"
   ]
  },
  {
   "cell_type": "code",
   "execution_count": 3,
   "metadata": {
    "tags": []
   },
   "outputs": [
    {
     "output_type": "stream",
     "name": "stdout",
     "text": "Llenando tanque con agua caliente\nAñadiendo jabón\nLavando con agua caliente\nCentrifugando la ropa\n"
    }
   ],
   "source": [
    "class Lavadora:\n",
    "    def __init__(self):\n",
    "        pass\n",
    "\n",
    "    def lavar(self,temperatura = 'caliente'):\n",
    "        self._llenar_tanque_de_agua(temperatura)\n",
    "        self._añadir_jabon()\n",
    "        self._lavar(temperatura)\n",
    "        self._centrifugar()\n",
    "    \n",
    "    def _llenar_tanque_de_agua(self,temperatura):\n",
    "        print(f'Llenando tanque con agua {temperatura}')\n",
    "    \n",
    "    def _añadir_jabon(self):\n",
    "        print('Añadiendo jabón')\n",
    "\n",
    "    def _lavar(self,temperatura):\n",
    "        print(f'Lavando con agua {temperatura}')\n",
    "\n",
    "    def _centrifugar(self):\n",
    "        print('Centrifugando la ropa')\n",
    "\n",
    "if __name__ == '__main__':\n",
    "    lavadora = Lavadora()\n",
    "    lavadora.lavar()"
   ]
  }
 ]
}