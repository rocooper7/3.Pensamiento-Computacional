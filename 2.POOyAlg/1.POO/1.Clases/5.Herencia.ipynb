{
 "metadata": {
  "language_info": {
   "codemirror_mode": {
    "name": "ipython",
    "version": 3
   },
   "file_extension": ".py",
   "mimetype": "text/x-python",
   "name": "python",
   "nbconvert_exporter": "python",
   "pygments_lexer": "ipython3",
   "version": "3.8.3-final"
  },
  "orig_nbformat": 2,
  "kernelspec": {
   "name": "python_defaultSpec_1599500631426",
   "display_name": "Python 3.8.3 64-bit ('Anaconda': conda)"
  }
 },
 "nbformat": 4,
 "nbformat_minor": 2,
 "cells": [
  {
   "cell_type": "markdown",
   "metadata": {},
   "source": [
    "## Herencia"
   ]
  },
  {
   "cell_type": "code",
   "execution_count": 4,
   "metadata": {
    "tags": []
   },
   "outputs": [
    {
     "output_type": "stream",
     "name": "stdout",
     "text": "El Área se saca multiplicando 10 por 20 y el resultado es 200\nEl Área del Cuadrado es:100\n"
    }
   ],
   "source": [
    "class Rectangulo:    #Superclase\n",
    "\n",
    "    def __init__(self,base,altura):\n",
    "        self.base = base\n",
    "        self.altura = altura\n",
    "\n",
    "    def area(self):\n",
    "        return self.base * self.altura\n",
    "\n",
    "class Cuadrado(Rectangulo):    #Subclase\n",
    "\n",
    "    def __init__(self, base, altura):\n",
    "        super().__init__(base, altura)\n",
    "\n",
    "    \n",
    "if __name__ == '__main__':\n",
    "    rectangulo = Rectangulo(10,20)\n",
    "    print(f'El Área se saca multiplicando {rectangulo.base} por {rectangulo.altura} y el resultado es {rectangulo.area()}')\n",
    "    cuadrado = Cuadrado(10,10)\n",
    "    print(f'El Área del Cuadrado es:{cuadrado.area()}')"
   ]
  },
  {
   "cell_type": "markdown",
   "metadata": {},
   "source": [
    "## Ejemplo 2"
   ]
  },
  {
   "cell_type": "code",
   "execution_count": 8,
   "metadata": {
    "tags": []
   },
   "outputs": [
    {
     "output_type": "stream",
     "name": "stdout",
     "text": "cuerdas: 4, afinadores: 4, puente: 1, tamano: grande, afinacion: variada\ncuerdas: 5, afinadores: 3, puente: 2, tamano: pequeño, afinacion: aguda\n"
    }
   ],
   "source": [
    "class InstrumentosCuerda:\n",
    "\n",
    "    def __init__(self, cuerdas, afinador, puente, tamano, afinacion):\n",
    "        self.cuerdas = cuerdas\n",
    "        self.afinador = afinador\n",
    "        self.puente = puente\n",
    "        self.tamano = tamano\n",
    "        self.afinacion = afinacion\n",
    "\n",
    "    def show(self):\n",
    "        return f'cuerdas: {self.cuerdas}, afinadores: {self.afinador}, puente: {self.puente}, tamano: {self.tamano}, afinacion: {self.afinacion}'\n",
    "\n",
    "class Violin(InstrumentosCuerda):\n",
    "\n",
    "    def __init__(self, cuerdas, afinador, puente, tamano, afinacion):\n",
    "        super().__init__(cuerdas, afinador, puente, tamano, afinacion)\n",
    "\n",
    "if __name__ == '__main__':\n",
    "    instrumentos = InstrumentosCuerda(4, 4, 1, 'grande', 'variada')\n",
    "    print(instrumentos.show())\n",
    "    violin = Violin(5, 3, 2, 'pequeño', 'aguda')    \n",
    "    print(violin.show())"
   ]
  },
  {
   "cell_type": "markdown",
   "metadata": {},
   "source": [
    "## Ejemplo 3"
   ]
  },
  {
   "cell_type": "code",
   "execution_count": 9,
   "metadata": {
    "tags": []
   },
   "outputs": [
    {
     "output_type": "stream",
     "name": "stdout",
     "text": "Marca: Honda\nModelo: CRV\nAño: 2018\nColor: Blanco\nEn marcha: True\nAcelerando: False\nFrenando: False\n"
    }
   ],
   "source": [
    "class Vehiculos():\n",
    "    def __init__(self,marca,modelo,año,color,):\n",
    "        self.marca = marca\n",
    "        self.modelo = modelo\n",
    "        self.año = año \n",
    "        self.color = color\n",
    "        self._encendido = True\n",
    "        self._acelerando = False\n",
    "        self._frenando = False\n",
    "\n",
    "    def en_marcha(self):\n",
    "        if self._encendido == True:\n",
    "            return True\n",
    "        else:\n",
    "            return False\n",
    "             \n",
    "    def acelerar(self):\n",
    "        if self._acelerando == True:\n",
    "            return True\n",
    "        else:\n",
    "            return False\n",
    "\n",
    "    def frenar(self):\n",
    "        if self._frenando == True:\n",
    "            return True\n",
    "        else:\n",
    "            return False\n",
    "\n",
    "    def estado(self):\n",
    "        print(f'Marca: {self.marca}')\n",
    "        print(f'Modelo: {self.modelo}')\n",
    "        print(f'Año: {self.año}')\n",
    "        print(f'Color: {self.color}')\n",
    "        print(f'En marcha: {self.en_marcha()}')\n",
    "        print(f'Acelerando: {self.acelerar()}')\n",
    "        print(f'Frenando: {self.frenar()}')\n",
    "\n",
    "class Automovil(Vehiculos):\n",
    "    def __init__(self, marca, modelo, año, color):\n",
    "        super().__init__(marca, modelo, año, color)\n",
    "\n",
    "if __name__ == '__main__':\n",
    "    automovil = Automovil('Honda','CRV',2018,'Blanco')\n",
    "    automovil.estado()"
   ]
  },
  {
   "cell_type": "markdown",
   "metadata": {},
   "source": [
    "## Ejemplo 4 "
   ]
  },
  {
   "cell_type": "code",
   "execution_count": 12,
   "metadata": {
    "tags": []
   },
   "outputs": [
    {
     "output_type": "stream",
     "name": "stdout",
     "text": "Nombre: Rodrigo Cooper\nEdad: 35\nDirección: Fracc Fuentes del Molino\nFecha de Nacimiento: 02/07/1985\nSalario: 20000\nAntigüedad: 10\n"
    }
   ],
   "source": [
    "class Persona:\n",
    "    def __init__(self,nombre,edad,direccion,fecha_nac):\n",
    "        self.nombre = nombre\n",
    "        self.edad = edad \n",
    "        self.direccion = direccion\n",
    "        self.fecha_nac = fecha_nac\n",
    "    \n",
    "    def descripcion(self):\n",
    "        print(f'Nombre: {self.nombre}')\n",
    "        print(f'Edad: {self.edad}')\n",
    "        print(f'Dirección: {self.direccion}')\n",
    "        print(f'Fecha de Nacimiento: {self.fecha_nac}')\n",
    "\n",
    "class Empleado(Persona):\n",
    "    def __init__(self, nombre, edad, direccion, fecha_nac, salario,antigüedad):\n",
    "        super().__init__(nombre, edad, direccion, fecha_nac)\n",
    "        self.salario = salario\n",
    "        self.antiguedad = antigüedad\n",
    "\n",
    "    def descripcion(self):\n",
    "        super().descripcion()\n",
    "        print(f'Salario: {self.salario}')\n",
    "        print(f'Antigüedad: {self.antiguedad}')\n",
    "\n",
    "if __name__ == '__main__':\n",
    "    empleado = Empleado('Rodrigo Cooper',35,'Fracc Fuentes del Molino','02/07/1985',20000,10)\n",
    "    empleado.descripcion()"
   ]
  }
 ]
}