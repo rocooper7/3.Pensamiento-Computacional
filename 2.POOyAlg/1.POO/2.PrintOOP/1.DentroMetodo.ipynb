{
 "metadata": {
  "language_info": {
   "codemirror_mode": {
    "name": "ipython",
    "version": 3
   },
   "file_extension": ".py",
   "mimetype": "text/x-python",
   "name": "python",
   "nbconvert_exporter": "python",
   "pygments_lexer": "ipython3",
   "version": "3.8.3-final"
  },
  "orig_nbformat": 2,
  "kernelspec": {
   "name": "python_defaultSpec_1600361271489",
   "display_name": "Python 3.8.3 64-bit ('Anaconda': conda)"
  }
 },
 "nbformat": 4,
 "nbformat_minor": 2,
 "cells": [
  {
   "source": [
    "## Imprimiendo Dentro del Metodo"
   ],
   "cell_type": "markdown",
   "metadata": {}
  },
  {
   "cell_type": "code",
   "execution_count": 1,
   "metadata": {
    "tags": []
   },
   "outputs": [
    {
     "output_type": "stream",
     "name": "stdout",
     "text": "[\"New Year's Day\", 'Day of the Holy Kings', 'Candlemas', 'Day off for Constitution Day', 'Constitution Day', \"Valentine's Day\", 'Flag Day', 'Ash Wednesday', \"Day off for Benito Juárez's Birthday Memorial\", 'Oil Expropriation Day', 'March Equinox', \"Benito Juárez's Birthday Memorial\", 'Palm Sunday', 'Maundy Thursday', 'Good Friday', 'Holy Saturday', 'Easter Sunday', \"Children's Day\", 'Labor Day / May Day', 'Battle of Puebla (Cinco de Mayo)', \"Mother's Day\", \"Teacher's Day\", 'Ascension Day', 'Whit Sunday', 'Corpus Christi', 'June Solstice', \"Father's Day\", 'Assumption of Mary', 'Shout of Dolores', 'Independence Day', 'September Equinox', 'Columbus Day', 'Halloween', \"All Saints' Day\", \"All Souls' Day\", 'Day off for Revolution Day Memorial', 'Revolution Day Memorial', 'Christ the King Day', 'Feast of the Immaculate Conception', 'Day of the Virgin of Guadalupe', 'December Solstice', 'Christmas Eve', 'Christmas Day', 'Day of the Holy Innocents', \"New Year's Eve\"]\n"
    }
   ],
   "source": [
    "import requests\n",
    "import threading\n",
    "\n",
    "class Holidays:\n",
    "    def __init__(self):\n",
    "        self._key = 'e4cfac4208c75ddb73b30002dd322f4786684c2b'\n",
    "\n",
    "    def get_name(self):\n",
    "        response = requests.get(f'https://calendarific.com/api/v2/holidays?&api_key={self._key}&country=MX&year=2020')\n",
    "            \n",
    "        if response.status_code == 200:  # Si esta bien sigue a payload\n",
    "            \n",
    "            payload = response.json()\n",
    "            # results = payload.get('response').get('holidays')  #{\"meta\":{\"code\":200},\"response\":{\"holidays\":[{\"name\":\"New Year's Day\",\n",
    "            results = payload['response']['holidays']\n",
    "                       \n",
    "            if results:\n",
    "                result_list = [result['name'] for result in results]\n",
    "                return result_list   \n",
    "            \n",
    "\n",
    "if __name__ == '__main__':\n",
    "    holidays = Holidays()\n",
    "    print(holidays.get_name())"
   ]
  },
  {
   "source": [
    "## Impriendo desde una variable que contiene un Dicc en OOP (Consultar carpeta Data Science)"
   ],
   "cell_type": "markdown",
   "metadata": {}
  },
  {
   "cell_type": "code",
   "execution_count": 2,
   "metadata": {
    "tags": []
   },
   "outputs": [
    {
     "output_type": "stream",
     "name": "stdout",
     "text": "{'Cien años de soledad': 'Gabriel García Marquez'}\n----\nNombre: Cien años de soledad - Autor: Gabriel García Marquez\n"
    }
   ],
   "source": [
    "class Libro():\n",
    "    def __init__(self):\n",
    "        self.libros = {} #diccionario vacio\n",
    "\n",
    "    def add(self):\n",
    "        insert = True\n",
    "        while insert:\n",
    "            nombre = input(\"Ingresar nombre: \")    \n",
    "            autor = input(\"Ingrese autor: \")\n",
    "            self.libros[nombre] = autor # Agrega el elemento al diccionario\n",
    "            \n",
    "            if (input(\"Registrar otro libro? S/N: \")).lower() == \"n\":\n",
    "                insert = False\n",
    "\n",
    "    def mostrar(self):\n",
    "        print(self.libros)  #Me imprime el diccionario\n",
    "        for nombre, autor in self.libros.items():   #Para cuando no imprima el dicc y me de un objeto\n",
    "            print(\"----\")\n",
    "            print(\"Nombre: {} - Autor: {}\".format(nombre, autor))\n",
    "\n",
    "if __name__ == '__main__':\n",
    "    libro = Libro()\n",
    "    libro.add()\n",
    "    libro.mostrar()"
   ]
  },
  {
   "cell_type": "code",
   "execution_count": 3,
   "metadata": {
    "tags": []
   },
   "outputs": [
    {
     "output_type": "stream",
     "name": "stdout",
     "text": "{'Cien años de soledad': {'Autor': 'Gabriel García Marquez', 'Editorial': 'Editorial 01', 'Anio': '1982'}}\n----\nNombre: Cien años de soledad | Autor: Gabriel García Marquez | Editorial: Editorial 01 | Año: 1982\n"
    }
   ],
   "source": [
    "class Libro():\n",
    "    def __init__(self):\n",
    "        self.libros = {} #diccionario vacio\n",
    "\n",
    "    def add(self):\n",
    "        insert = True\n",
    "        while insert:\n",
    "            nombre = input(\"Ingresar nombre: \")    \n",
    "            autor = input(\"Ingrese autor: \")\n",
    "            editorial = input(\"Ingrese Editorial: \")\n",
    "            anio = input(\"Ingrese año: \")\n",
    "            lib_atributos = { \"Autor\":autor, \"Editorial\":editorial, \"Anio\":anio }\n",
    "            self.libros[nombre] = lib_atributos # Agrega el elemento al diccionario\n",
    "            \n",
    "            if (input(\"Registrar otro libro? S/N: \")).lower() == \"n\":\n",
    "                insert = False\n",
    "\n",
    "    def mostrar(self):\n",
    "        print(self.libros)  #Me imprime el diccionario\n",
    "        for nombre, valor in self.libros.items():   #Para cuando no imprima el dicc y me de un objeto\n",
    "            print(\"----\")\n",
    "            autor = valor[\"Autor\"]\n",
    "            editorial = valor[\"Editorial\"]\n",
    "            anio = valor[\"Anio\"]\n",
    "            print(\"Nombre: {} | Autor: {} | Editorial: {} | Año: {}\".format(nombre, autor, editorial, anio))\n",
    "\n",
    "if __name__ == '__main__':\n",
    "    libro = Libro()\n",
    "    libro.add()\n",
    "    libro.mostrar()"
   ]
  },
  {
   "cell_type": "code",
   "execution_count": 8,
   "metadata": {
    "tags": []
   },
   "outputs": [
    {
     "output_type": "stream",
     "name": "stdout",
     "text": "Antoine De Saint Exupery\nEditorial 03\n1943\n"
    }
   ],
   "source": [
    "libros = {\"Cien años de soledad\": {\"Autor\":\"Gabriel García Marquez\", \"Editorial\":\"Editorial 01\", \"Anio\":1982 }, \n",
    "\"Don quijote de la Mancha\" : {\"Autor\":\"Miguel de Cervantes\", \"Editorial\":\"Editorial 02\", \"Anio\":1600}, \n",
    "\"El Principito\" : {\"Autor\":\"Antoine De Saint Exupery\", \"Editorial\":\"Editorial 03\", \"Anio\":1943}}\n",
    "\n",
    "print(libros[\"El Principito\"][\"Autor\"])\n",
    "print(libros[\"El Principito\"][\"Editorial\"])\n",
    "print(libros[\"El Principito\"][\"Anio\"])"
   ]
  },
  {
   "cell_type": "code",
   "execution_count": 10,
   "metadata": {
    "tags": []
   },
   "outputs": [
    {
     "output_type": "stream",
     "name": "stdout",
     "text": "Nombre: Cien años de soledad | Autor: Gabriel García Marquez | Editorial: Editorial 01 | Año: 1982\nNombre: Don quijote de la Mancha | Autor: Miguel de Cervantes | Editorial: Editorial 02 | Año: 1600\nNombre: El Principito | Autor: Antoine De Saint Exupery | Editorial: Editorial 03 | Año: 1943\n"
    }
   ],
   "source": [
    "for nombre, valor in libros.items():\n",
    "    autor = valor[\"Autor\"]\n",
    "    editorial = valor[\"Editorial\"]\n",
    "    anio = valor[\"Anio\"]\n",
    "    print(\"Nombre: {} | Autor: {} | Editorial: {} | Año: {}\".format(nombre, autor, editorial, anio))"
   ]
  }
 ]
}