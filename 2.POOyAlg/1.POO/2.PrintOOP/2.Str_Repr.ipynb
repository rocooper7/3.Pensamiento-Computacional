{
 "metadata": {
  "language_info": {
   "codemirror_mode": {
    "name": "ipython",
    "version": 3
   },
   "file_extension": ".py",
   "mimetype": "text/x-python",
   "name": "python",
   "nbconvert_exporter": "python",
   "pygments_lexer": "ipython3",
   "version": "3.8.3-final"
  },
  "orig_nbformat": 2,
  "kernelspec": {
   "name": "python_defaultSpec_1600360558004",
   "display_name": "Python 3.8.3 64-bit ('Anaconda': conda)"
  }
 },
 "nbformat": 4,
 "nbformat_minor": 2,
 "cells": [
  {
   "source": [
    "## __str__ y __repr__  (Ver carpeta Data Science (OOP))"
   ],
   "cell_type": "markdown",
   "metadata": {}
  },
  {
   "cell_type": "code",
   "execution_count": 78,
   "metadata": {},
   "outputs": [],
   "source": [
    "class Person:\n",
    "   \n",
    "    def __init__(self, personName, personAge):\n",
    "        self.name = personName\n",
    "        self.age = personAge\n",
    "\n",
    "    def __str__(self):\n",
    "        return f'Name:{self.name}, Age:{str(self.age)}'\n",
    "\n",
    "    def __repr__(self):\n",
    "        return {'name':self.name, 'age':self.age}"
   ]
  },
  {
   "cell_type": "code",
   "execution_count": 79,
   "metadata": {
    "tags": []
   },
   "outputs": [
    {
     "output_type": "stream",
     "name": "stdout",
     "text": "Name:Rodrigo, Age:34\n"
    }
   ],
   "source": [
    "p = Person('Rodrigo', 34)\n",
    "print(p.__str__())   #Imprime Strings"
   ]
  },
  {
   "cell_type": "code",
   "execution_count": 80,
   "metadata": {
    "tags": []
   },
   "outputs": [
    {
     "output_type": "stream",
     "name": "stdout",
     "text": "{'name': 'Rodrigo', 'age': 34}\n"
    }
   ],
   "source": [
    "print(p.__repr__())   #Imprime Diccionarios,Listas,Tuplas,Sets"
   ]
  },
  {
   "cell_type": "code",
   "execution_count": 152,
   "metadata": {
    "tags": []
   },
   "outputs": [
    {
     "output_type": "stream",
     "name": "stdout",
     "text": "Name:Pan, Price:20\n['Pan', 20]\nPan:20\n20\nName:Pan, Price:20\n"
    }
   ],
   "source": [
    "class Item():\n",
    "    def __init__(self, name, price):\n",
    "        self.name = name\n",
    "        self.price = price\n",
    "\n",
    "class ShoppingCart(Item):\n",
    "    def __init__(self,name,price):\n",
    "        super().__init__(name,price)\n",
    "        self.items = []\n",
    "    \n",
    "    def add_item(self,item):\n",
    "        self.items.append(item)\n",
    "   \n",
    "    def total(self):\n",
    "        return sum([item.price for item in self.items])\n",
    "\n",
    "    def get_item(self,item):\n",
    "        if item not in self.items:\n",
    "            raise NotExistsItemError('Item does not exists')\n",
    "        else:\n",
    "            return self.items[self.items.index(item)]\n",
    "            \n",
    "    def __str__(self):\n",
    "        return f'Name:{self.name}, Price:{self.price}'\n",
    "    \n",
    "    def __repr__(self):\n",
    "        return [self.name, self.price]\n",
    "\n",
    "    def mostrar(self):\n",
    "        for item in self.items:\n",
    "            # print(f'{self.name}:{self.price}')\n",
    "            print(f'{item.name}:{item.price}')\n",
    "\n",
    "if __name__ == '__main__':\n",
    "    name = input('Cual es el Producto?')\n",
    "    price = int(input('Cual es el Precio?'))\n",
    "    shopping_cart = ShoppingCart(name,price)\n",
    "    shopping_cart.add_item(shopping_cart)\n",
    "    print(shopping_cart.__str__())\n",
    "    print(shopping_cart.__repr__())\n",
    "    shopping_cart.mostrar()\n",
    "    print(shopping_cart.total())\n",
    "    print(shopping_cart.get_item(shopping_cart))"
   ]
  }
 ]
}