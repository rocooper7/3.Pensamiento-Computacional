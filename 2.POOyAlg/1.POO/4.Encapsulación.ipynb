{
 "metadata": {
  "language_info": {
   "codemirror_mode": {
    "name": "ipython",
    "version": 3
   },
   "file_extension": ".py",
   "mimetype": "text/x-python",
   "name": "python",
   "nbconvert_exporter": "python",
   "pygments_lexer": "ipython3",
   "version": "3.8.3-final"
  },
  "orig_nbformat": 2,
  "kernelspec": {
   "name": "python_defaultSpec_1599498292942",
   "display_name": "Python 3.8.3 64-bit ('Anaconda': conda)"
  }
 },
 "nbformat": 4,
 "nbformat_minor": 2,
 "cells": [
  {
   "cell_type": "markdown",
   "metadata": {},
   "source": [
    "## Encapsulación Ejemplo 1"
   ]
  },
  {
   "cell_type": "code",
   "execution_count": 8,
   "metadata": {
    "tags": []
   },
   "outputs": [
    {
     "output_type": "stream",
     "name": "stdout",
     "text": "Usuario: Roberto\n Clave: qwerty\n"
    }
   ],
   "source": [
    "class usuario (object):\n",
    "    def __init__(self, nombre, clave):\n",
    "        self.nombre = nombre\n",
    "        self._clave = clave  # ATRIBUTO PROTEGIDO\n",
    "        \n",
    "Usuario1 = usuario (\"Roberto\", \"qwerty\")\n",
    " \n",
    "print (f'Usuario: {Usuario1.nombre}\\n Clave: {Usuario1._clave}')"
   ]
  },
  {
   "cell_type": "code",
   "execution_count": 12,
   "metadata": {
    "tags": []
   },
   "outputs": [
    {
     "output_type": "stream",
     "name": "stdout",
     "text": "Usuario: Roberto\n Clave: qwerty\n"
    }
   ],
   "source": [
    "class usuario (object):\n",
    "    def __init__(self, nombre, clave):\n",
    "        self.nombre = nombre\n",
    "        self.__clave = clave\n",
    "        \n",
    "Usuario1 = usuario (\"Roberto\", \"qwerty\")\n",
    " \n",
    "print (f'Usuario: {Usuario1.nombre}\\n Clave: {Usuario1._usuario__clave}')  # FORMA DE ACCEDER AL ATRIBUTO PRIVADO"
   ]
  },
  {
   "cell_type": "markdown",
   "metadata": {},
   "source": [
    "## Getter, Setter, Deleter"
   ]
  },
  {
   "cell_type": "code",
   "execution_count": 17,
   "metadata": {
    "tags": []
   },
   "outputs": [
    {
     "output_type": "stream",
     "name": "stdout",
     "text": "None\nMexico\n"
    }
   ],
   "source": [
    "class CasillaDeVotacion:\n",
    "    \n",
    "    def __init__(self, identificador, pais):\n",
    "        self._identificador = identificador\n",
    "        self._pais = pais\n",
    "        self._region = None\n",
    "\n",
    "    @property\n",
    "    def region(self):\n",
    "        return self._region\n",
    "\n",
    "    @region.setter #Se manipula con el setter (encapsulación)\n",
    "    def set_region(self, region):\n",
    "        if region in self._pais:\n",
    "            self._region = region\n",
    "        else:\n",
    "            raise ValueError(f'La region {region} no esta en la lista')\n",
    "\n",
    "if __name__ == '__main__':\n",
    "    casilla = CasillaDeVotacion(123,['Mexico','Morelos'])\n",
    "    print(casilla.set_region)\n",
    "    casilla.set_region = 'Mexico'\n",
    "    print(casilla.set_region)"
   ]
  }
 ]
}