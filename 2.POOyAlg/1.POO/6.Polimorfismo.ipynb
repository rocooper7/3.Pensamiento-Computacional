{
 "metadata": {
  "language_info": {
   "codemirror_mode": {
    "name": "ipython",
    "version": 3
   },
   "file_extension": ".py",
   "mimetype": "text/x-python",
   "name": "python",
   "nbconvert_exporter": "python",
   "pygments_lexer": "ipython3",
   "version": "3.8.3-final"
  },
  "orig_nbformat": 2,
  "kernelspec": {
   "name": "python_defaultSpec_1599502496403",
   "display_name": "Python 3.8.3 64-bit ('Anaconda': conda)"
  }
 },
 "nbformat": 4,
 "nbformat_minor": 2,
 "cells": [
  {
   "cell_type": "markdown",
   "metadata": {},
   "source": [
    "## Polimorfismo"
   ]
  },
  {
   "cell_type": "code",
   "execution_count": 2,
   "metadata": {
    "tags": []
   },
   "outputs": [
    {
     "output_type": "stream",
     "name": "stdout",
     "text": "Rodrigo esta caminando a pie\nDavid esta andando en bicicleta\n"
    }
   ],
   "source": [
    "class Persona:\n",
    "    def __init__(self,nombre):\n",
    "        self.nombre = nombre\n",
    "    \n",
    "    def avanzar(self):\n",
    "        print(f'{self.nombre} esta caminando a pie')\n",
    "\n",
    "class Ciclista(Persona):\n",
    "    def __init__(self, nombre):\n",
    "        super().__init__(nombre)\n",
    "    \n",
    "    def avanzar(self):\n",
    "        print(f'{self.nombre} esta andando en bicicleta')\n",
    "\n",
    "def main():   #Aqui es en donde sucede el polimorfismo\n",
    "    persona = Persona('Rodrigo')\n",
    "    persona.avanzar()\n",
    "\n",
    "    ciclista = Ciclista('David')\n",
    "    ciclista.avanzar()\n",
    "\n",
    "if __name__ == '__main__':\n",
    "    main()"
   ]
  },
  {
   "cell_type": "markdown",
   "metadata": {},
   "source": [
    "## Ejemplo 2"
   ]
  },
  {
   "cell_type": "code",
   "execution_count": 4,
   "metadata": {
    "tags": []
   },
   "outputs": [
    {
     "output_type": "stream",
     "name": "stdout",
     "text": "Rodrigo esta caminado a pie\nDavid esta andando en bicicleta\n"
    }
   ],
   "source": [
    "class Persona:\n",
    "    def __init__(self,nombre, tipo):\n",
    "        self.nombre = nombre\n",
    "        self.tipo = tipo\n",
    "    \n",
    "    def avanzar(self):\n",
    "        if self.tipo == 'C':\n",
    "            print(f'{self.nombre} esta caminando a pie')\n",
    "        elif self.tipo == 'B':\n",
    "            print(f'{self.nombre} esta andando en bicicleta')\n",
    "        else:\n",
    "            print(f'{self.nombre} esta parado')\n",
    "\n",
    "class Ciclista(Persona):\n",
    "    def __init__(self, nombre, tipo):\n",
    "        super().__init__(nombre, tipo)\n",
    "    \n",
    " \n",
    "def main():   \n",
    "    persona = Persona('Rodrigo','C')\n",
    "    persona.avanzar()\n",
    "\n",
    "    ciclista = Ciclista('David','B')\n",
    "    ciclista.avanzar()\n",
    "\n",
    "if __name__ == '__main__':\n",
    "    main()"
   ]
  },
  {
   "cell_type": "markdown",
   "metadata": {},
   "source": [
    "## Ejemplo 3"
   ]
  },
  {
   "cell_type": "code",
   "execution_count": 6,
   "metadata": {
    "tags": []
   },
   "outputs": [
    {
     "output_type": "stream",
     "name": "stdout",
     "text": "El automovil Jetta se desplaza en 4 llantas\n"
    }
   ],
   "source": [
    "class Vehiculos:\n",
    "    def __init__(self,marca,modelo,color):\n",
    "        self.marca = marca\n",
    "        self.modelo = modelo\n",
    "        self.color = color\n",
    "\n",
    "class Automovil(Vehiculos):\n",
    "    def __init__(self, marca, modelo, color):\n",
    "        super().__init__(marca, modelo, color)\n",
    "\n",
    "    def desplazamiento(self):\n",
    "        print(f'El automovil {self.modelo} se desplaza en 4 llantas')\n",
    "\n",
    "class Moto(Vehiculos):\n",
    "    def __init__(self, marca, modelo, color):\n",
    "        super().__init__(marca, modelo, color)\n",
    "\n",
    "    def desplazamiento(self):\n",
    "        print(f'La moto {self.modelo} se desplaza en 2 llantas')\n",
    "\n",
    "class Camion(Vehiculos):\n",
    "    def __init__(self, marca, modelo, color):\n",
    "        super().__init__(marca, modelo, color)\n",
    "\n",
    "    def desplazamiento(self):\n",
    "        print(f'El camión {self.modelo} se desplaza en 8 llantas')\n",
    "\n",
    "def avanza(vehiculo):\n",
    "    vehiculo.desplazamiento()\n",
    "\n",
    "if __name__ == '__main__':\n",
    "    vehiculo = Automovil('Volkswagen','Jetta','Blanco')\n",
    "    avanza(vehiculo)"
   ]
  }
 ]
}