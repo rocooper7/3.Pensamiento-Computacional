{
 "metadata": {
  "language_info": {
   "codemirror_mode": {
    "name": "ipython",
    "version": 3
   },
   "file_extension": ".py",
   "mimetype": "text/x-python",
   "name": "python",
   "nbconvert_exporter": "python",
   "pygments_lexer": "ipython3",
   "version": "3.8.3-final"
  },
  "orig_nbformat": 2,
  "kernelspec": {
   "name": "python_defaultSpec_1599237540888",
   "display_name": "Python 3.8.3 64-bit ('Anaconda': conda)"
  }
 },
 "nbformat": 4,
 "nbformat_minor": 2,
 "cells": [
  {
   "cell_type": "markdown",
   "metadata": {},
   "source": [
    "## Busqueda Lineal"
   ]
  },
  {
   "cell_type": "code",
   "execution_count": 4,
   "metadata": {
    "tags": []
   },
   "outputs": [
    {
     "output_type": "stream",
     "name": "stdout",
     "text": "[0, 5, 6, 6, 6, 7, 7, 12, 12, 17, 22, 23, 24, 26, 28, 32, 34, 36, 38, 41, 42, 42, 44, 45, 47, 49, 51, 53, 58, 58, 60, 62, 62, 66, 69, 70, 70, 70, 76, 79, 84, 85, 85, 86, 88, 88, 90, 93, 93, 98]\nEl elemento 6 esta en la lista\n"
    }
   ],
   "source": [
    "import random\n",
    "\n",
    "def busqueda_lineal(lista,objetivo):\n",
    "    match = False\n",
    "    \n",
    "    for elemento in lista: #0(n) crecimiento lineal\n",
    "        if elemento == objetivo:\n",
    "            match = True\n",
    "            break\n",
    "       \n",
    "    return match\n",
    "\n",
    "if __name__ == '__main__':\n",
    "    \n",
    "    tamaño_lista = int(input('Cual es el tamaño de la lista?'))\n",
    "    objetivo = int(input('Cual es el número buscado?'))\n",
    "\n",
    "    lista = [random.randint(0,100) for elemento in range(tamaño_lista)]\n",
    "    lista.sort()\n",
    "    encontrado = busqueda_lineal(lista,objetivo)\n",
    "    print(lista)\n",
    "    print(f'El elemento {objetivo} {\"esta\" if encontrado else \"no esta\"} en la lista')"
   ]
  },
  {
   "cell_type": "markdown",
   "metadata": {},
   "source": [
    "## Busqueda Binaria"
   ]
  },
  {
   "cell_type": "code",
   "execution_count": 4,
   "metadata": {
    "tags": []
   },
   "outputs": [
    {
     "output_type": "stream",
     "name": "stdout",
     "text": "Buscando 6 entre 2 y 99\nBuscando 6 entre 2 y 46\nBuscando 6 entre 2 y 23\nBuscando 6 entre 2 y 12\nBuscando 6 entre 2 y 4\nBuscando 6 entre 4 y 4\nBuscando 6 entre 6 y 4\n[2, 2, 4, 4, 6, 8, 9, 10, 11, 12, 12, 13, 14, 14, 14, 17, 17, 18, 20, 20, 21, 22, 23, 27, 30, 30, 33, 33, 33, 34, 38, 39, 40, 40, 40, 40, 40, 40, 40, 41, 41, 42, 42, 42, 43, 44, 45, 46, 48, 51, 52, 53, 54, 55, 55, 55, 57, 58, 59, 59, 59, 59, 62, 68, 70, 70, 71, 72, 72, 74, 75, 76, 77, 77, 77, 77, 77, 78, 79, 79, 79, 80, 80, 81, 82, 83, 84, 85, 85, 87, 89, 89, 90, 91, 92, 97, 98, 99, 99, 99]\nEl elemento 6 esta en la lista\nBusquedas:7\n"
    }
   ],
   "source": [
    "import random \n",
    "contador = 0 #Se usa contador para saber cuantas veces se repite \n",
    "\n",
    "def busqueda_binaria(data,target,low,high):\n",
    "    global contador \n",
    "    contador += 1 \n",
    "\n",
    "    print(f'Buscando {target} entre {data[low]} y {data[high -1]}')\n",
    "    # print(f'Buscando {target} entre {data[low]} y {data[high]}') #Es mejor\n",
    "    if low > high: \n",
    "        return False\n",
    "    mid = (high + low) // 2\n",
    "\n",
    "    if target == data[mid]:\n",
    "        return True\n",
    "    elif target > data[mid]:\n",
    "        return busqueda_binaria(data,target,mid + 1,high)\n",
    "    else:\n",
    "        return busqueda_binaria(data,target,low, mid -1)\n",
    "\n",
    "if __name__ == '__main__':\n",
    "    \n",
    "    data_size = int(input('Cuál es el tamaño de la lista ?'))\n",
    "    target = int(input('Cuás es el numero buscado ?'))\n",
    "    data = [random.randint(0,100) for i in range(data_size)] \n",
    "    data.sort()\n",
    "\n",
    "    found = busqueda_binaria(data,target,0,len(data) -1)\n",
    "    print(data)\n",
    "    print(f'El elemento {target} {\"esta\" if found else \"no esta\"} en la lista')\n",
    "    print(f'Busquedas:{contador}')"
   ]
  },
  {
   "cell_type": "markdown",
   "metadata": {},
   "source": [
    "## Lineal vs Binaria"
   ]
  },
  {
   "cell_type": "code",
   "execution_count": 2,
   "metadata": {
    "tags": []
   },
   "outputs": [
    {
     "output_type": "stream",
     "name": "stdout",
     "text": "[0, 0, 0, 0, 2, 2, 5, 5, 6, 8, 11, 13, 13, 17, 17, 17, 18, 18, 19, 19, 20, 20, 20, 20, 21, 27, 28, 29, 30, 31, 32, 32, 34, 35, 37, 38, 38, 39, 39, 41, 41, 41, 42, 42, 42, 43, 44, 46, 46, 47, 48, 48, 48, 50, 50, 51, 51, 52, 53, 54, 54, 55, 55, 56, 57, 57, 58, 59, 60, 61, 61, 62, 64, 65, 67, 67, 67, 71, 72, 74, 74, 75, 76, 76, 76, 80, 80, 81, 84, 85, 85, 88, 89, 90, 90, 90, 91, 91, 93, 95]\nEl elemento54 esta en la lista\nBusquedas Lineales:60\nEl elemento 54 esta en la lista\nBusquedas Binarias:6\n"
    }
   ],
   "source": [
    "import random\n",
    "lineal_count = 0\n",
    "binary_count = 0\n",
    "\n",
    "def lineal_search(data,target):\n",
    "    global lineal_count\n",
    "    \n",
    "    match = False\n",
    "    \n",
    "    for i in data:\n",
    "        lineal_count += 1\n",
    "\n",
    "        if i == target:\n",
    "            match = True\n",
    "            break\n",
    "    \n",
    "    return match     \n",
    "\n",
    "def binary_search(data,target,low,high):\n",
    "    global binary_count\n",
    "    binary_count += 1 \n",
    "    \n",
    "    if low > high:\n",
    "        return False\n",
    "    \n",
    "    mid = (high + low) // 2\n",
    "    \n",
    "    if target == data[mid]:\n",
    "        return True\n",
    "    elif target > data[mid]:\n",
    "        return binary_search(data,target, mid + 1, high)\n",
    "    else:\n",
    "        return binary_search(data,target,low, mid - 1)\n",
    "\n",
    "if __name__ == '__main__':\n",
    "    data_size = int(input('Cual es el tamaño del rango ?')) #1000\n",
    "    target = int(input('Cual es el numero buscado ?')) #34\n",
    "\n",
    "    data = [random.randint(0,100) for i in range(data_size)]\n",
    "    data.sort()\n",
    "\n",
    "    print(data)\n",
    "\n",
    "    lineal_found = lineal_search(data,target)\n",
    "    print(f'El elemento {target} {\"esta\" if lineal_found else \"no esta\"} en la lista')\n",
    "    # El elemento 34 está en la lista\t\n",
    "    print(f'Busquedas Lineales:{lineal_count}') #339\n",
    "\n",
    "    binary_found = binary_search(data,target,0,len(data) - 1)\n",
    "    print(f'El elemento {target} {\"esta\" if binary_found else \"no esta\"} en la lista')\n",
    "    # El elemento 34 está en la lista\n",
    "    print(f'Busquedas Binarias:{binary_count}') #5    "
   ]
  }
 ]
}