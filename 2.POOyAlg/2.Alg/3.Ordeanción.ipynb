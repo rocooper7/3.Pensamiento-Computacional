{
 "metadata": {
  "language_info": {
   "codemirror_mode": {
    "name": "ipython",
    "version": 3
   },
   "file_extension": ".py",
   "mimetype": "text/x-python",
   "name": "python",
   "nbconvert_exporter": "python",
   "pygments_lexer": "ipython3",
   "version": "3.8.3-final"
  },
  "orig_nbformat": 2,
  "kernelspec": {
   "name": "python_defaultSpec_1599238708898",
   "display_name": "Python 3.8.3 64-bit ('Anaconda': conda)"
  }
 },
 "nbformat": 4,
 "nbformat_minor": 2,
 "cells": [
  {
   "cell_type": "markdown",
   "metadata": {},
   "source": [
    "## Ordenamiento de Burbuja"
   ]
  },
  {
   "cell_type": "code",
   "execution_count": 11,
   "metadata": {
    "tags": []
   },
   "outputs": [
    {
     "output_type": "stream",
     "name": "stdout",
     "text": "[72, 85, 8, 7, 10, 28, 15, 44, 34, 56]\n[7, 8, 10, 15, 28, 34, 44, 56, 72, 85]\n"
    }
   ],
   "source": [
    "import random\n",
    "\n",
    "def ordenamiento_de_burbuja(lista):\n",
    "    n = len(lista)\n",
    "\n",
    "    for i in range(n):\n",
    "        for j in range(0, n - i - 1): # O(n) * O(n) = O(n * n) = O(n**2) Algoritmo no eficiente\n",
    "            # print(i,j)  #Disminuye uno el rango i\n",
    "\n",
    "            if lista[j] > lista[j + 1]:\n",
    "                lista[j], lista[j + 1] = lista[j + 1], lista[j]\n",
    "\n",
    "    return lista\n",
    "\n",
    "if __name__ == '__main__':\n",
    "    tamano_de_lista = int(input('De que tamano sera la lista? '))\n",
    "\n",
    "    lista = [random.randint(0, 100) for i in range(tamano_de_lista)]\n",
    "    print(lista) #[7, 75, 10, 8, 43, 7, 38, 62, 92, 62]\n",
    "\n",
    "    lista_ordenada = ordenamiento_de_burbuja(lista)\n",
    "    print(lista_ordenada) #[7, 7, 8, 10, 38, 43, 62, 62, 75, 92]"
   ]
  },
  {
   "cell_type": "markdown",
   "metadata": {},
   "source": [
    "## Ordenamiento por Insercion"
   ]
  },
  {
   "cell_type": "code",
   "execution_count": 49,
   "metadata": {
    "tags": []
   },
   "outputs": [
    {
     "output_type": "stream",
     "name": "stdout",
     "text": "[25, 71, 94, 50, 92, 78, 58, 62, 10, 10]\n[10, 10, 25, 50, 58, 62, 71, 78, 92, 94]\n"
    }
   ],
   "source": [
    "def ordenamiento_por_insercion(lista):\n",
    "    \n",
    "    for indice in range(1, len(lista)):\n",
    "        valor_actual = lista[indice]\n",
    "        posicion_actual = indice\n",
    "        # print(indice,lista[indice])\n",
    "\n",
    "        while posicion_actual > 0 and lista[posicion_actual - 1] > valor_actual:\n",
    "            # print(posicion_actual, lista[posicion_actual - 1], valor_actual)\n",
    "            # print(lista[posicion_actual],lista[posicion_actual - 1])\n",
    "            lista[posicion_actual] = lista[posicion_actual - 1]\n",
    "            # print(lista)\n",
    "            posicion_actual -= 1\n",
    "            # print(posicion_actual)\n",
    "\n",
    "        lista[posicion_actual] = valor_actual\n",
    "        # print(posicion_actual,lista[posicion_actual], valor_actual)\n",
    "        # print(lista)\n",
    "\n",
    "    return lista\n",
    "\n",
    "if __name__ == '__main__':\n",
    "    tamano_de_lista = int(input('De que tamano sera la lista? '))\n",
    "\n",
    "    lista = [random.randint(0, 100) for i in range(tamano_de_lista)]\n",
    "    print(lista) \n",
    "\n",
    "    lista_ordenada = ordenamiento_por_insercion(lista)\n",
    "    print(lista_ordenada) "
   ]
  },
  {
   "cell_type": "markdown",
   "metadata": {},
   "source": [
    "## Ordenamiento por Mezcla"
   ]
  },
  {
   "cell_type": "code",
   "execution_count": 84,
   "metadata": {
    "tags": []
   },
   "outputs": [
    {
     "output_type": "stream",
     "name": "stdout",
     "text": "[35, 4, 20, 30]\n--------------------\n[35, 4] ***** [20, 30]\n[35] ***** [4]\nizquierda [35], derecha [4]\n[4, 35]\n--------------------------------------------------\n[20] ***** [30]\nizquierda [20], derecha [30]\n[20, 30]\n--------------------------------------------------\nizquierda [4, 35], derecha [20, 30]\n[4, 20, 30, 35]\n--------------------------------------------------\n[4, 20, 30, 35]\n"
    }
   ],
   "source": [
    "import random\n",
    "\n",
    "def ordenamiento_por_mezcla(lista):\n",
    "    if len(lista) > 1:\n",
    "        medio = len(lista) // 2\n",
    "        izquierda = lista[:medio]\n",
    "        derecha = lista[medio:]\n",
    "        print(izquierda, '*' * 5, derecha)\n",
    "\n",
    "        # llamada recursiva en cada mitad\n",
    "        ordenamiento_por_mezcla(izquierda)\n",
    "        ordenamiento_por_mezcla(derecha)\n",
    "\n",
    "        # Iteradores para recorrer las dos sublistas\n",
    "        i = 0\n",
    "        j = 0\n",
    "        # Iterador para la lista principal\n",
    "        k = 0\n",
    "\n",
    "        while i < len(izquierda) and j < len(derecha):\n",
    "            if izquierda[i] < derecha[j]:\n",
    "                lista[k] = izquierda[i]\n",
    "                i += 1\n",
    "            else:\n",
    "                lista[k] = derecha[j]\n",
    "                j += 1\n",
    "\n",
    "            k += 1\n",
    "\n",
    "        while i < len(izquierda):\n",
    "            lista[k] = izquierda[i]\n",
    "            i += 1\n",
    "            k +=1\n",
    "\n",
    "        while j < len(derecha):\n",
    "            lista[k] = derecha[j]\n",
    "            j += 1\n",
    "            k += 1\n",
    "        \n",
    "        print(f'izquierda {izquierda}, derecha {derecha}')\n",
    "        print(lista)\n",
    "        print('-' * 50)\n",
    "\n",
    "    return lista\n",
    "\n",
    "if __name__ == '__main__':\n",
    "    tamano_de_lista = int(input('De que tamano sera la lista? '))\n",
    "\n",
    "    lista = [random.randint(0, 100) for i in range(tamano_de_lista)]\n",
    "    print(lista)\n",
    "    print('-' * 20)\n",
    "\n",
    "    lista_ordenada = ordenamiento_por_mezcla(lista)\n",
    "    print(lista_ordenada)"
   ]
  }
 ]
}