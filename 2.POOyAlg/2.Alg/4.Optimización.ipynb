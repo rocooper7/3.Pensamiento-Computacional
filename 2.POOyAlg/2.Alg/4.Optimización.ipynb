{
 "metadata": {
  "language_info": {
   "codemirror_mode": {
    "name": "ipython",
    "version": 3
   },
   "file_extension": ".py",
   "mimetype": "text/x-python",
   "name": "python",
   "nbconvert_exporter": "python",
   "pygments_lexer": "ipython3",
   "version": "3.8.3-final"
  },
  "orig_nbformat": 2,
  "kernelspec": {
   "name": "python_defaultSpec_1599248212854",
   "display_name": "Python 3.8.3 64-bit (virtualenv)"
  }
 },
 "nbformat": 4,
 "nbformat_minor": 2,
 "cells": [
  {
   "cell_type": "code",
   "execution_count": 2,
   "metadata": {
    "tags": []
   },
   "outputs": [
    {
     "output_type": "stream",
     "name": "stdout",
     "text": "20 | 30 | -10 | [10, 20, 30] | 120 | [60, 100, 120] | 3 | True\n----------------------------------------------------------------------\n20 | 20 | 0 | [10, 20, 30] | 100 | [60, 100, 120] | 2 | False\n----------------------------------------------------------------------\n20 | 10 | 10 | [10, 20, 30] | 60 | [60, 100, 120] | 1 | False\n----------------------------------------------------------------------\n100\n"
    }
   ],
   "source": [
    "def morral(tamaño_morral,pesos,valores,n):\n",
    "    if n == 0 or tamaño_morral == 0:\n",
    "        return 0\n",
    "    \n",
    "    print(f'{tamaño_morral} | {pesos[n - 1]} | {tamaño_morral - pesos[n - 1]} | {pesos} | {valores[n - 1]} | {valores} | {n} | {pesos[n - 1] > tamaño_morral}')\n",
    "    print('-' * 70)\n",
    "\n",
    "    if pesos[n - 1] > tamaño_morral:\n",
    "        return morral(tamaño_morral,pesos,valores,n - 1)\n",
    "\n",
    "    return max(valores[n - 1] + morral(tamaño_morral - pesos[n - 1],pesos, valores, n - 1),\n",
    "                morral(tamaño_morral,pesos,valores,n - 1))\n",
    "\n",
    "if __name__ == '__main__':\n",
    "    valores = [60,100,120]\n",
    "    pesos = [10,20,30]\n",
    "    tamaño_morral = int(input('Cual es el tamaño del morral?'))\n",
    "    n = len(valores)\n",
    "\n",
    "    respuesta = morral(tamaño_morral,pesos,valores,n)\n",
    "    print(respuesta)"
   ]
  }
 ]
}