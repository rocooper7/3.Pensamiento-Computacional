{
 "cells": [
  {
   "cell_type": "code",
   "execution_count": 3,
   "metadata": {},
   "outputs": [
    {
     "output_type": "execute_result",
     "data": {
      "text/plain": "[('espada', 'as'),\n ('espada', '2'),\n ('espada', '3'),\n ('espada', '4'),\n ('espada', '5'),\n ('espada', '6'),\n ('espada', '7'),\n ('espada', '8'),\n ('espada', '9'),\n ('espada', '10'),\n ('espada', 'jota'),\n ('espada', 'reina'),\n ('espada', 'rey'),\n ('corazon', 'as'),\n ('corazon', '2'),\n ('corazon', '3'),\n ('corazon', '4'),\n ('corazon', '5'),\n ('corazon', '6'),\n ('corazon', '7'),\n ('corazon', '8'),\n ('corazon', '9'),\n ('corazon', '10'),\n ('corazon', 'jota'),\n ('corazon', 'reina'),\n ('corazon', 'rey'),\n ('rombo', 'as'),\n ('rombo', '2'),\n ('rombo', '3'),\n ('rombo', '4'),\n ('rombo', '5'),\n ('rombo', '6'),\n ('rombo', '7'),\n ('rombo', '8'),\n ('rombo', '9'),\n ('rombo', '10'),\n ('rombo', 'jota'),\n ('rombo', 'reina'),\n ('rombo', 'rey'),\n ('trebol', 'as'),\n ('trebol', '2'),\n ('trebol', '3'),\n ('trebol', '4'),\n ('trebol', '5'),\n ('trebol', '6'),\n ('trebol', '7'),\n ('trebol', '8'),\n ('trebol', '9'),\n ('trebol', '10'),\n ('trebol', 'jota'),\n ('trebol', 'reina'),\n ('trebol', 'rey')]"
     },
     "metadata": {},
     "execution_count": 3
    }
   ],
   "source": [
    "PALOS = ['espada', 'corazon', 'rombo', 'trebol']\n",
    "VALORES = ['as', '2', '3', '4', '5', '6', '7', '8', '9', '10', 'jota', 'reina', 'rey']\n",
    "barajas =[]\n",
    "\n",
    "for palo in PALOS:\n",
    "    for valor in VALORES:\n",
    "        barajas.append((palo,valor))\n",
    "barajas"
   ]
  },
  {
   "cell_type": "code",
   "execution_count": 13,
   "metadata": {},
   "outputs": [
    {
     "output_type": "execute_result",
     "data": {
      "text/plain": "[('corazon', 'jota'),\n ('trebol', '3'),\n ('corazon', 'reina'),\n ('espada', 'jota'),\n ('corazon', '5')]"
     },
     "metadata": {},
     "execution_count": 13
    }
   ],
   "source": [
    "import random \n",
    "mano = random.sample(barajas,5)\n",
    "mano"
   ]
  },
  {
   "cell_type": "code",
   "execution_count": 14,
   "metadata": {},
   "outputs": [
    {
     "output_type": "execute_result",
     "data": {
      "text/plain": "['jota', '3', 'reina', 'jota', '5']"
     },
     "metadata": {},
     "execution_count": 14
    }
   ],
   "source": [
    " valores_mano = []\n",
    "for carta in mano:\n",
    "    valores_mano.append(carta[1])\n",
    "valores_mano"
   ]
  },
  {
   "cell_type": "code",
   "execution_count": 18,
   "metadata": {},
   "outputs": [
    {
     "output_type": "execute_result",
     "data": {
      "text/plain": "['3', '5', 'jota', 'jota', 'reina']"
     },
     "metadata": {},
     "execution_count": 18
    }
   ],
   "source": [
    "mano_ordenada = []\n",
    "for VALOR in VALORES:\n",
    "    for valor in valores_mano:\n",
    "        if VALOR == valor:\n",
    "            mano_ordenada.append(valor)\n",
    "mano_ordenada"
   ]
  },
  {
   "cell_type": "code",
   "execution_count": 32,
   "metadata": {
    "tags": []
   },
   "outputs": [
    {
     "output_type": "stream",
     "name": "stdout",
     "text": "5\n9\n"
    },
    {
     "output_type": "execute_result",
     "data": {
      "text/plain": "[['as', '2', '3', '4', '5'],\n ['2', '3', '4', '5', '6'],\n ['3', '4', '5', '6', '7'],\n ['4', '5', '6', '7', '8'],\n ['5', '6', '7', '8', '9'],\n ['6', '7', '8', '9', '10'],\n ['7', '8', '9', '10', 'jota'],\n ['8', '9', '10', 'jota', 'reina'],\n ['9', '10', 'jota', 'reina', 'rey']]"
     },
     "metadata": {},
     "execution_count": 32
    }
   ],
   "source": [
    "arreglos = []\n",
    "n_arreglos = len(VALORES) - len(mano_ordenada) + 1\n",
    "\n",
    "for i in range(0, n_arreglos):\n",
    "    arreglos.append(VALORES[i: i + 5])\n",
    "\n",
    "print(len(mano_ordenada))\n",
    "print(n_arreglos)\n",
    "arreglos"
   ]
  },
  {
   "cell_type": "code",
   "execution_count": 36,
   "metadata": {
    "tags": []
   },
   "outputs": [
    {
     "output_type": "stream",
     "name": "stdout",
     "text": "['jota', '3', 'reina', 'jota', '5']\n"
    },
    {
     "output_type": "execute_result",
     "data": {
      "text/plain": "{'jota': 2, '3': 1, 'reina': 1, '5': 1}"
     },
     "metadata": {},
     "execution_count": 36
    }
   ],
   "source": [
    "import collections\n",
    "valores = []\n",
    "for carta in mano:\n",
    "    valores.append(carta[1])\n",
    "print(valores)\n",
    "counter = dict(collections.Counter(valores))\n",
    "counter"
   ]
  },
  {
   "cell_type": "code",
   "execution_count": 1,
   "metadata": {},
   "outputs": [
    {
     "output_type": "execute_result",
     "data": {
      "text/plain": "1.0922720128059429"
     },
     "metadata": {},
     "execution_count": 1
    }
   ],
   "source": [
    " import random \n",
    " import math\n",
    " x = random.random() * random.choice([-1, 1])\n",
    " y = random.random() * random.choice([-1, 1])\n",
    " distancia_cero = math.sqrt(x**2 + y**2)\n",
    " distancia_cero"
   ]
  },
  {
   "cell_type": "code",
   "execution_count": 17,
   "metadata": {},
   "outputs": [
    {
     "output_type": "execute_result",
     "data": {
      "text/plain": "1.6"
     },
     "metadata": {},
     "execution_count": 17
    }
   ],
   "source": [
    "(4* 400) / 1000"
   ]
  },
  {
   "cell_type": "code",
   "execution_count": 4,
   "metadata": {
    "tags": []
   },
   "outputs": [
    {
     "output_type": "stream",
     "name": "stdout",
     "text": "0\n1\n2\n3\n4\n5\n6\n7\n8\n"
    }
   ],
   "source": [
    "for i in range(0, 9):\n",
    "    print(i)"
   ]
  }
 ],
 "metadata": {
  "language_info": {
   "codemirror_mode": {
    "name": "ipython",
    "version": 3
   },
   "file_extension": ".py",
   "mimetype": "text/x-python",
   "name": "python",
   "nbconvert_exporter": "python",
   "pygments_lexer": "ipython3",
   "version": "3.7.4-final"
  },
  "orig_nbformat": 2,
  "kernelspec": {
   "name": "python37464bitanacondaconda74954a3f106b47d99d44e5fb8ca66932",
   "display_name": "Python 3.7.4 64-bit ('Anaconda': conda)"
  }
 },
 "nbformat": 4,
 "nbformat_minor": 2
}