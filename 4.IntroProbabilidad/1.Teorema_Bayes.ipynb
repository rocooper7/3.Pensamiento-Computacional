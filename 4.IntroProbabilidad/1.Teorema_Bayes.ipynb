{
 "cells": [
  {
   "cell_type": "code",
   "execution_count": 25,
   "metadata": {
    "tags": []
   },
   "outputs": [
    {
     "output_type": "stream",
     "name": "stdout",
     "text": "Prob_Sintoma: 0.01%\nProb_Cancer_dado_Síntoma:  9.09%\n"
    }
   ],
   "source": [
    "# Implementamos la P(D) = P(A) P(D|A) + P(B) P(D|B)  #P(D) Prob Sintoma \n",
    "def prob_D (PA, PD_A, PB, PD_B):\n",
    "    return (PA * PD_A) + (PB * PD_B)\n",
    "\n",
    "# Implementamos la P(A|D) = P(A) P(D|A) / P(D)   Probabilidad condicional\n",
    "def calc_bayes(PA, PD_A, PD):\n",
    "    return (PA * PD_A) / PD\n",
    "\n",
    "\n",
    "if __name__ == '__main__':\n",
    "    p_cancer_A = 1 / 100000                     #P(A)\n",
    "    p_sintoma_dado_cancer_DA = 1                #P(D|A)\n",
    "    p_no_cancer_B = 1 - p_cancer_A              #P(B)\n",
    "    p_sintoma_dado_no_cancer_DB = 10 / 99999    #P(D|B)\n",
    "    \n",
    " \n",
    "    prob_sintoma = prob_D(p_cancer_A, p_sintoma_dado_cancer_DA, p_no_cancer_B, p_sintoma_dado_no_cancer_DB)     #P(D)\n",
    "\n",
    "    prob_cancer_dado_sintoma = calc_bayes(p_cancer_A, p_sintoma_dado_cancer_DA, prob_sintoma)  #P(A|D)\n",
    "    \n",
    "    print(f'Prob_Sintoma: {round(prob_sintoma*100,2)}%')\n",
    "    print(f'Prob_Cancer_dado_Síntoma:  {round(prob_cancer_dado_sintoma*100,2)}%')"
   ]
  }
 ],
 "metadata": {
  "language_info": {
   "codemirror_mode": {
    "name": "ipython",
    "version": 3
   },
   "file_extension": ".py",
   "mimetype": "text/x-python",
   "name": "python",
   "nbconvert_exporter": "python",
   "pygments_lexer": "ipython3",
   "version": "3.7.4-final"
  },
  "orig_nbformat": 2,
  "kernelspec": {
   "name": "python37464bitanacondaconda74954a3f106b47d99d44e5fb8ca66932",
   "display_name": "Python 3.7.4 64-bit ('Anaconda': conda)"
  }
 },
 "nbformat": 4,
 "nbformat_minor": 2
}